{
 "cells": [
  {
   "cell_type": "markdown",
   "metadata": {
    "collapsed": true,
    "deletable": true,
    "editable": true
   },
   "source": [
    "# Image Classification\n",
    "In this project, you'll classify images from the [CIFAR-10 dataset](https://www.cs.toronto.edu/~kriz/cifar.html).  The dataset consists of airplanes, dogs, cats, and other objects. You'll preprocess the images, then train a convolutional neural network on all the samples. The images need to be normalized and the labels need to be one-hot encoded.  You'll get to apply what you learned and build a convolutional, max pooling, dropout, and fully connected layers.  At the end, you'll get to see your neural network's predictions on the sample images.\n",
    "## Get the Data\n",
    "Run the following cell to download the [CIFAR-10 dataset for python](https://www.cs.toronto.edu/~kriz/cifar-10-python.tar.gz)."
   ]
  },
  {
   "cell_type": "code",
   "execution_count": 2,
   "metadata": {
    "collapsed": false,
    "deletable": true,
    "editable": true
   },
   "outputs": [
    {
     "name": "stdout",
     "output_type": "stream",
     "text": [
      "All files found!\n"
     ]
    }
   ],
   "source": [
    "\"\"\"\n",
    "DON'T MODIFY ANYTHING IN THIS CELL THAT IS BELOW THIS LINE\n",
    "\"\"\"\n",
    "from urllib.request import urlretrieve\n",
    "from os.path import isfile, isdir\n",
    "from tqdm import tqdm\n",
    "import problem_unittests as tests\n",
    "import tarfile\n",
    "\n",
    "cifar10_dataset_folder_path = 'cifar-10-batches-py'\n",
    "\n",
    "# Use Floyd's cifar-10 dataset if present\n",
    "floyd_cifar10_location = '/input/cifar-10/python.tar.gz'\n",
    "if isfile(floyd_cifar10_location):\n",
    "    tar_gz_path = floyd_cifar10_location\n",
    "else:\n",
    "    tar_gz_path = 'cifar-10-python.tar.gz'\n",
    "\n",
    "class DLProgress(tqdm):\n",
    "    last_block = 0\n",
    "\n",
    "    def hook(self, block_num=1, block_size=1, total_size=None):\n",
    "        self.total = total_size\n",
    "        self.update((block_num - self.last_block) * block_size)\n",
    "        self.last_block = block_num\n",
    "\n",
    "if not isfile(tar_gz_path):\n",
    "    with DLProgress(unit='B', unit_scale=True, miniters=1, desc='CIFAR-10 Dataset') as pbar:\n",
    "        urlretrieve(\n",
    "            'https://www.cs.toronto.edu/~kriz/cifar-10-python.tar.gz',\n",
    "            tar_gz_path,\n",
    "            pbar.hook)\n",
    "\n",
    "if not isdir(cifar10_dataset_folder_path):\n",
    "    with tarfile.open(tar_gz_path) as tar:\n",
    "        tar.extractall()\n",
    "        tar.close()\n",
    "\n",
    "\n",
    "tests.test_folder_path(cifar10_dataset_folder_path)"
   ]
  },
  {
   "cell_type": "markdown",
   "metadata": {
    "deletable": true,
    "editable": true
   },
   "source": [
    "## Explore the Data\n",
    "The dataset is broken into batches to prevent your machine from running out of memory.  The CIFAR-10 dataset consists of 5 batches, named `data_batch_1`, `data_batch_2`, etc.. Each batch contains the labels and images that are one of the following:\n",
    "* airplane\n",
    "* automobile\n",
    "* bird\n",
    "* cat\n",
    "* deer\n",
    "* dog\n",
    "* frog\n",
    "* horse\n",
    "* ship\n",
    "* truck\n",
    "\n",
    "Understanding a dataset is part of making predictions on the data.  Play around with the code cell below by changing the `batch_id` and `sample_id`. The `batch_id` is the id for a batch (1-5). The `sample_id` is the id for a image and label pair in the batch.\n",
    "\n",
    "Ask yourself \"What are all possible labels?\", \"What is the range of values for the image data?\", \"Are the labels in order or random?\".  Answers to questions like these will help you preprocess the data and end up with better predictions."
   ]
  },
  {
   "cell_type": "code",
   "execution_count": 3,
   "metadata": {
    "collapsed": false,
    "deletable": true,
    "editable": true
   },
   "outputs": [
    {
     "name": "stdout",
     "output_type": "stream",
     "text": [
      "\n",
      "Stats of batch 5:\n",
      "Samples: 10000\n",
      "Label Counts: {0: 1014, 1: 1014, 2: 952, 3: 1016, 4: 997, 5: 1025, 6: 980, 7: 977, 8: 1003, 9: 1022}\n",
      "First 20 Labels: [1, 8, 5, 1, 5, 7, 4, 3, 8, 2, 7, 2, 0, 1, 5, 9, 6, 2, 0, 8]\n",
      "\n",
      "Example of Image 55:\n",
      "Image - Min Value: 17 Max Value: 255\n",
      "Image - Shape: (32, 32, 3)\n",
      "Label - Label Id: 7 Name: horse\n"
     ]
    },
    {
     "data": {
      "image/png": "[encoded data removed]",
      "text/plain": [
       "<matplotlib.figure.Figure at 0x119951080>"
      ]
     },
     "metadata": {
      "image/png": {
       "height": 250,
       "width": 253
      }
     },
     "output_type": "display_data"
    }
   ],
   "source": [
    "%matplotlib inline\n",
    "%config InlineBackend.figure_format = 'retina'\n",
    "\n",
    "import helper\n",
    "import numpy as np\n",
    "\n",
    "# Explore the dataset\n",
    "batch_id = 5\n",
    "sample_id = 55\n",
    "helper.display_stats(cifar10_dataset_folder_path, batch_id, sample_id)"
   ]
  },
  {
   "cell_type": "markdown",
   "metadata": {
    "deletable": true,
    "editable": true
   },
   "source": [
    "## Implement Preprocess Functions\n",
    "### Normalize\n",
    "In the cell below, implement the `normalize` function to take in image data, `x`, and return it as a normalized Numpy array. The values should be in the range of 0 to 1, inclusive.  The return object should be the same shape as `x`."
   ]
  },
  {
   "cell_type": "code",
   "execution_count": 4,
   "metadata": {
    "collapsed": false,
    "deletable": true,
    "editable": true
   },
   "outputs": [
    {
     "name": "stdout",
     "output_type": "stream",
     "text": [
      "Tests Passed\n"
     ]
    }
   ],
   "source": [
    "def normalize(x):\n",
    "    \"\"\"\n",
    "    Normalize a list of sample image data in the range of 0 to 1\n",
    "    : x: List of image data.  The image shape is (32, 32, 3)\n",
    "    : return: Numpy array of normalize data\n",
    "    \"\"\"\n",
    "    return x/255\n",
    "\n",
    "\n",
    "\"\"\"\n",
    "DON'T MODIFY ANYTHING IN THIS CELL THAT IS BELOW THIS LINE\n",
    "\"\"\"\n",
    "tests.test_normalize(normalize)"
   ]
  },
  {
   "cell_type": "markdown",
   "metadata": {
    "deletable": true,
    "editable": true
   },
   "source": [
    "### One-hot encode\n",
    "Just like the previous code cell, you'll be implementing a function for preprocessing.  This time, you'll implement the `one_hot_encode` function. The input, `x`, are a list of labels.  Implement the function to return the list of labels as One-Hot encoded Numpy array.  The possible values for labels are 0 to 9. The one-hot encoding function should return the same encoding for each value between each call to `one_hot_encode`.  Make sure to save the map of encodings outside the function.\n",
    "\n",
    "Hint: Don't reinvent the wheel."
   ]
  },
  {
   "cell_type": "code",
   "execution_count": 5,
   "metadata": {
    "collapsed": false,
    "deletable": true,
    "editable": true
   },
   "outputs": [
    {
     "name": "stdout",
     "output_type": "stream",
     "text": [
      "Tests Passed\n"
     ]
    }
   ],
   "source": [
    "def one_hot_encode(x):\n",
    "    \"\"\"\n",
    "    One hot encode a list of sample labels. Return a one-hot encoded vector for each label.\n",
    "    : x: List of sample Labels\n",
    "    : return: Numpy array of one-hot encoded labels\n",
    "    \"\"\"\n",
    "    x = np.array(x)\n",
    "    number_of_categories = 10\n",
    "    # number_of_categories = x.max()+1\n",
    "    a = np.zeros((x.shape[0], number_of_categories), dtype=np.bool)\n",
    "    a[np.arange(x.shape[0]), x] = True\n",
    "    return a\n",
    "\n",
    "\n",
    "\"\"\"\n",
    "DON'T MODIFY ANYTHING IN THIS CELL THAT IS BELOW THIS LINE\n",
    "\"\"\"\n",
    "tests.test_one_hot_encode(one_hot_encode)"
   ]
  },
  {
   "cell_type": "markdown",
   "metadata": {
    "deletable": true,
    "editable": true
   },
   "source": [
    "### Randomize Data\n",
    "As you saw from exploring the data above, the order of the samples are randomized.  It doesn't hurt to randomize it again, but you don't need to for this dataset."
   ]
  },
  {
   "cell_type": "markdown",
   "metadata": {
    "deletable": true,
    "editable": true
   },
   "source": [
    "## Preprocess all the data and save it\n",
    "Running the code cell below will preprocess all the CIFAR-10 data and save it to file. The code below also uses 10% of the training data for validation."
   ]
  },
  {
   "cell_type": "code",
   "execution_count": 7,
   "metadata": {
    "collapsed": false,
    "deletable": true,
    "editable": true
   },
   "outputs": [],
   "source": [
    "\"\"\"\n",
    "DON'T MODIFY ANYTHING IN THIS CELL\n",
    "\"\"\"\n",
    "# Preprocess Training, Validation, and Testing Data\n",
    "helper.preprocess_and_save_data(cifar10_dataset_folder_path, normalize, one_hot_encode)"
   ]
  },
  {
   "cell_type": "markdown",
   "metadata": {
    "deletable": true,
    "editable": true
   },
   "source": [
    "# Check Point\n",
    "This is your first checkpoint.  If you ever decide to come back to this notebook or have to restart the notebook, you can start from here.  The preprocessed data has been saved to disk."
   ]
  },
  {
   "cell_type": "code",
   "execution_count": 1,
   "metadata": {
    "collapsed": true,
    "deletable": true,
    "editable": true
   },
   "outputs": [],
   "source": [
    "\"\"\"\n",
    "DON'T MODIFY ANYTHING IN THIS CELL\n",
    "\"\"\"\n",
    "import pickle\n",
    "import problem_unittests as tests\n",
    "import helper\n",
    "\n",
    "# Load the Preprocessed Validation data\n",
    "valid_features, valid_labels = pickle.load(open('preprocess_validation.p', mode='rb'))"
   ]
  },
  {
   "cell_type": "markdown",
   "metadata": {
    "deletable": true,
    "editable": true
   },
   "source": [
    "## Build the network\n",
    "For the neural network, you'll build each layer into a function.  Most of the code you've seen has been outside of functions. To test your code more thoroughly, we require that you put each layer in a function.  This allows us to give you better feedback and test for simple mistakes using our unittests before you submit your project.\n",
    "\n",
    ">**Note:** If you're finding it hard to dedicate enough time for this course each week, we've provided a small shortcut to this part of the project. In the next couple of problems, you'll have the option to use classes from the [TensorFlow Layers](https://www.tensorflow.org/api_docs/python/tf/layers) or [TensorFlow Layers (contrib)](https://www.tensorflow.org/api_guides/python/contrib.layers) packages to build each layer, except the layers you build in the \"Convolutional and Max Pooling Layer\" section.  TF Layers is similar to Keras's and TFLearn's abstraction to layers, so it's easy to pickup.\n",
    "\n",
    ">However, if you would like to get the most out of this course, try to solve all the problems _without_ using anything from the TF Layers packages. You **can** still use classes from other packages that happen to have the same name as ones you find in TF Layers! For example, instead of using the TF Layers version of the `conv2d` class, [tf.layers.conv2d](https://www.tensorflow.org/api_docs/python/tf/layers/conv2d), you would want to use the TF Neural Network version of `conv2d`, [tf.nn.conv2d](https://www.tensorflow.org/api_docs/python/tf/nn/conv2d). \n",
    "\n",
    "Let's begin!\n",
    "\n",
    "### Input\n",
    "The neural network needs to read the image data, one-hot encoded labels, and dropout keep probability. Implement the following functions\n",
    "* Implement `neural_net_image_input`\n",
    " * Return a [TF Placeholder](https://www.tensorflow.org/api_docs/python/tf/placeholder)\n",
    " * Set the shape using `image_shape` with batch size set to `None`.\n",
    " * Name the TensorFlow placeholder \"x\" using the TensorFlow `name` parameter in the [TF Placeholder](https://www.tensorflow.org/api_docs/python/tf/placeholder).\n",
    "* Implement `neural_net_label_input`\n",
    " * Return a [TF Placeholder](https://www.tensorflow.org/api_docs/python/tf/placeholder)\n",
    " * Set the shape using `n_classes` with batch size set to `None`.\n",
    " * Name the TensorFlow placeholder \"y\" using the TensorFlow `name` parameter in the [TF Placeholder](https://www.tensorflow.org/api_docs/python/tf/placeholder).\n",
    "* Implement `neural_net_keep_prob_input`\n",
    " * Return a [TF Placeholder](https://www.tensorflow.org/api_docs/python/tf/placeholder) for dropout keep probability.\n",
    " * Name the TensorFlow placeholder \"keep_prob\" using the TensorFlow `name` parameter in the [TF Placeholder](https://www.tensorflow.org/api_docs/python/tf/placeholder).\n",
    "\n",
    "These names will be used at the end of the project to load your saved model.\n",
    "\n",
    "Note: `None` for shapes in TensorFlow allow for a dynamic size."
   ]
  },
  {
   "cell_type": "code",
   "execution_count": 12,
   "metadata": {
    "collapsed": false,
    "deletable": true,
    "editable": true
   },
   "outputs": [
    {
     "name": "stdout",
     "output_type": "stream",
     "text": [
      "Image Input Tests Passed.\n",
      "Label Input Tests Passed.\n",
      "Keep Prob Tests Passed.\n"
     ]
    }
   ],
   "source": [
    "import tensorflow as tf\n",
    "\n",
    "def neural_net_image_input(image_shape):\n",
    "    \"\"\"\n",
    "    Return a Tensor for a batch of image input\n",
    "    : image_shape: Shape of the images\n",
    "    : return: Tensor for image input.\n",
    "    \"\"\"\n",
    "    return tf.placeholder(tf.float32, (None, *image_shape), \"x\")\n",
    "\n",
    "\n",
    "def neural_net_label_input(n_classes):\n",
    "    \"\"\"\n",
    "    Return a Tensor for a batch of label input\n",
    "    : n_classes: Number of classes\n",
    "    : return: Tensor for label input.\n",
    "    \"\"\"\n",
    "    return tf.placeholder(tf.float32, (None, n_classes), \"y\")\n",
    "\n",
    "\n",
    "def neural_net_keep_prob_input():\n",
    "    \"\"\"\n",
    "    Return a Tensor for keep probability\n",
    "    : return: Tensor for keep probability.\n",
    "    \"\"\"\n",
    "    return tf.placeholder(tf.float32, None, \"keep_prob\")\n",
    "\n",
    "\n",
    "\"\"\"\n",
    "DON'T MODIFY ANYTHING IN THIS CELL THAT IS BELOW THIS LINE\n",
    "\"\"\"\n",
    "tf.reset_default_graph()\n",
    "tests.test_nn_image_inputs(neural_net_image_input)\n",
    "tests.test_nn_label_inputs(neural_net_label_input)\n",
    "tests.test_nn_keep_prob_inputs(neural_net_keep_prob_input)"
   ]
  },
  {
   "cell_type": "markdown",
   "metadata": {
    "deletable": true,
    "editable": true
   },
   "source": [
    "### Convolution and Max Pooling Layer\n",
    "Convolution layers have a lot of success with images. For this code cell, you should implement the function `conv2d_maxpool` to apply convolution then max pooling:\n",
    "* Create the weight and bias using `conv_ksize`, `conv_num_outputs` and the shape of `x_tensor`.\n",
    "* Apply a convolution to `x_tensor` using weight and `conv_strides`.\n",
    " * We recommend you use same padding, but you're welcome to use any padding.\n",
    "* Add bias\n",
    "* Add a nonlinear activation to the convolution.\n",
    "* Apply Max Pooling using `pool_ksize` and `pool_strides`.\n",
    " * We recommend you use same padding, but you're welcome to use any padding.\n",
    "\n",
    "**Note:** You **can't** use [TensorFlow Layers](https://www.tensorflow.org/api_docs/python/tf/layers) or [TensorFlow Layers (contrib)](https://www.tensorflow.org/api_guides/python/contrib.layers) for **this** layer, but you can still use TensorFlow's [Neural Network](https://www.tensorflow.org/api_docs/python/tf/nn) package. You may still use the shortcut option for all the **other** layers."
   ]
  },
  {
   "cell_type": "code",
   "execution_count": 13,
   "metadata": {
    "collapsed": false,
    "deletable": true,
    "editable": true
   },
   "outputs": [
    {
     "name": "stdout",
     "output_type": "stream",
     "text": [
      "Tests Passed\n"
     ]
    }
   ],
   "source": [
    "def conv2d_maxpool(x_tensor, conv_num_outputs, conv_ksize, conv_strides, pool_ksize, pool_strides):\n",
    "    \"\"\"\n",
    "    Apply convolution then max pooling to x_tensor\n",
    "    :param x_tensor: TensorFlow Tensor\n",
    "    :param conv_num_outputs: Number of outputs for the convolutional layer\n",
    "    :param conv_ksize: kernal size 2-D Tuple for the convolutional layer\n",
    "    :param conv_strides: Stride 2-D Tuple for convolution\n",
    "    :param pool_ksize: kernal size 2-D Tuple for pool\n",
    "    :param pool_strides: Stride 2-D Tuple for pool\n",
    "    : return: A tensor that represents convolution and max pooling of x_tensor\n",
    "    \"\"\"\n",
    "    conv1_W = tf.Variable(tf.truncated_normal(\n",
    "        shape=(conv_ksize[0], conv_ksize[1], x_tensor.shape[3].value, conv_num_outputs), stddev=0.1))\n",
    "    conv1_b = tf.Variable(tf.zeros(conv_num_outputs))\n",
    "    conv1 = tf.nn.conv2d(x_tensor, filter=conv1_W, strides=[1, conv_strides[0], conv_strides[1], 1], padding=\"SAME\") + conv1_b\n",
    "    conv1 = tf.nn.relu(conv1)\n",
    "    conv1 = tf.nn.max_pool(conv1, ksize=[1, pool_ksize[0], pool_ksize[1], 1],\n",
    "                           strides=[1, pool_strides[0], pool_strides[1], 1], padding='SAME')\n",
    "    return conv1\n",
    "\n",
    "\n",
    "\"\"\"\n",
    "DON'T MODIFY ANYTHING IN THIS CELL THAT IS BELOW THIS LINE\n",
    "\"\"\"\n",
    "tests.test_con_pool(conv2d_maxpool)"
   ]
  },
  {
   "cell_type": "markdown",
   "metadata": {
    "deletable": true,
    "editable": true
   },
   "source": [
    "### Flatten Layer\n",
    "Implement the `flatten` function to change the dimension of `x_tensor` from a 4-D tensor to a 2-D tensor.  The output should be the shape (*Batch Size*, *Flattened Image Size*). Shortcut option: you can use classes from the [TensorFlow Layers](https://www.tensorflow.org/api_docs/python/tf/layers) or [TensorFlow Layers (contrib)](https://www.tensorflow.org/api_guides/python/contrib.layers) packages for this layer. For more of a challenge, only use other TensorFlow packages."
   ]
  },
  {
   "cell_type": "code",
   "execution_count": 14,
   "metadata": {
    "collapsed": false,
    "deletable": true,
    "editable": true
   },
   "outputs": [
    {
     "name": "stdout",
     "output_type": "stream",
     "text": [
      "Tests Passed\n"
     ]
    }
   ],
   "source": [
    "def flatten(x_tensor):\n",
    "    \"\"\"\n",
    "    Flatten x_tensor to (Batch Size, Flattened Image Size)\n",
    "    : x_tensor: A tensor of size (Batch Size, ...), where ... are the image dimensions.\n",
    "    : return: A tensor of size (Batch Size, Flattened Image Size).\n",
    "    \"\"\"\n",
    "    # TODO: Implement Function\n",
    "    return tf.contrib.layers.flatten(x_tensor)\n",
    "\n",
    "\n",
    "\"\"\"\n",
    "DON'T MODIFY ANYTHING IN THIS CELL THAT IS BELOW THIS LINE\n",
    "\"\"\"\n",
    "tests.test_flatten(flatten)"
   ]
  },
  {
   "cell_type": "markdown",
   "metadata": {
    "deletable": true,
    "editable": true
   },
   "source": [
    "### Fully-Connected Layer\n",
    "Implement the `fully_conn` function to apply a fully connected layer to `x_tensor` with the shape (*Batch Size*, *num_outputs*). Shortcut option: you can use classes from the [TensorFlow Layers](https://www.tensorflow.org/api_docs/python/tf/layers) or [TensorFlow Layers (contrib)](https://www.tensorflow.org/api_guides/python/contrib.layers) packages for this layer. For more of a challenge, only use other TensorFlow packages."
   ]
  },
  {
   "cell_type": "code",
   "execution_count": 15,
   "metadata": {
    "collapsed": false,
    "deletable": true,
    "editable": true
   },
   "outputs": [
    {
     "name": "stdout",
     "output_type": "stream",
     "text": [
      "Tests Passed\n"
     ]
    }
   ],
   "source": [
    "def fully_conn(x_tensor, num_outputs):\n",
    "    \"\"\"\n",
    "    Apply a fully connected layer to x_tensor using weight and bias\n",
    "    : x_tensor: A 2-D tensor where the first dimension is batch size.\n",
    "    : num_outputs: The number of output that the new tensor should be.\n",
    "    : return: A 2-D tensor where the second dimension is num_outputs.\n",
    "    \"\"\"\n",
    "    # TODO: Implement Function\n",
    "    fc1_W = tf.Variable(tf.truncated_normal(shape=(x_tensor.shape[1].value, num_outputs), stddev=0.1))\n",
    "    fc1_b = tf.Variable(tf.zeros(num_outputs))\n",
    "    fc1 = tf.matmul(x_tensor, fc1_W) + fc1_b\n",
    "    fc1 = tf.nn.relu(fc1)\n",
    "    return fc1\n",
    "\n",
    "\n",
    "\"\"\"\n",
    "DON'T MODIFY ANYTHING IN THIS CELL THAT IS BELOW THIS LINE\n",
    "\"\"\"\n",
    "tests.test_fully_conn(fully_conn)"
   ]
  },
  {
   "cell_type": "markdown",
   "metadata": {
    "deletable": true,
    "editable": true
   },
   "source": [
    "### Output Layer\n",
    "Implement the `output` function to apply a fully connected layer to `x_tensor` with the shape (*Batch Size*, *num_outputs*). Shortcut option: you can use classes from the [TensorFlow Layers](https://www.tensorflow.org/api_docs/python/tf/layers) or [TensorFlow Layers (contrib)](https://www.tensorflow.org/api_guides/python/contrib.layers) packages for this layer. For more of a challenge, only use other TensorFlow packages.\n",
    "\n",
    "**Note:** Activation, softmax, or cross entropy should **not** be applied to this."
   ]
  },
  {
   "cell_type": "code",
   "execution_count": 16,
   "metadata": {
    "collapsed": false,
    "deletable": true,
    "editable": true
   },
   "outputs": [
    {
     "name": "stdout",
     "output_type": "stream",
     "text": [
      "Tests Passed\n"
     ]
    }
   ],
   "source": [
    "def output(x_tensor, num_outputs):\n",
    "    \"\"\"\n",
    "    Apply a output layer to x_tensor using weight and bias\n",
    "    : x_tensor: A 2-D tensor where the first dimension is batch size.\n",
    "    : num_outputs: The number of output that the new tensor should be.\n",
    "    : return: A 2-D tensor where the second dimension is num_outputs.\n",
    "    \"\"\"\n",
    "    fc1_W = tf.Variable(tf.truncated_normal(shape=(x_tensor.shape[1].value, num_outputs), stddev=0.1))\n",
    "    fc1_b = tf.Variable(tf.zeros(num_outputs))\n",
    "    fc1 = tf.matmul(x_tensor, fc1_W) + fc1_b\n",
    "    return fc1\n",
    "\n",
    "\n",
    "\"\"\"\n",
    "DON'T MODIFY ANYTHING IN THIS CELL THAT IS BELOW THIS LINE\n",
    "\"\"\"\n",
    "tests.test_output(output)"
   ]
  },
  {
   "cell_type": "markdown",
   "metadata": {
    "deletable": true,
    "editable": true
   },
   "source": [
    "### Create Convolutional Model\n",
    "Implement the function `conv_net` to create a convolutional neural network model. The function takes in a batch of images, `x`, and outputs logits.  Use the layers you created above to create this model:\n",
    "\n",
    "* Apply 1, 2, or 3 Convolution and Max Pool layers\n",
    "* Apply a Flatten Layer\n",
    "* Apply 1, 2, or 3 Fully Connected Layers\n",
    "* Apply an Output Layer\n",
    "* Return the output\n",
    "* Apply [TensorFlow's Dropout](https://www.tensorflow.org/api_docs/python/tf/nn/dropout) to one or more layers in the model using `keep_prob`. "
   ]
  },
  {
   "cell_type": "code",
   "execution_count": 22,
   "metadata": {
    "collapsed": false,
    "deletable": true,
    "editable": true
   },
   "outputs": [
    {
     "name": "stdout",
     "output_type": "stream",
     "text": [
      "Neural Network Built!\n"
     ]
    }
   ],
   "source": [
    "def conv_net(x, keep_prob):\n",
    "    \"\"\"\n",
    "    Create a convolutional neural network model\n",
    "    : x: Placeholder tensor that holds image data.\n",
    "    : keep_prob: Placeholder tensor that hold dropout keep probability.\n",
    "    : return: Tensor that represents logits\n",
    "    \"\"\"\n",
    "    conv_strides = [1, 1]\n",
    "    pool_ksize = [2, 2]\n",
    "    pool_strides = [2, 2]\n",
    "\n",
    "    conv1 = conv2d_maxpool(x, 16, conv_ksize=[5, 5], conv_strides=conv_strides, pool_ksize=pool_ksize, pool_strides=pool_strides)\n",
    "    conv2 = conv2d_maxpool(conv1, 32, conv_ksize=[5, 5], conv_strides=conv_strides, pool_ksize=pool_ksize, pool_strides=pool_strides)\n",
    "    conv3 = conv2d_maxpool(conv2, 64, conv_ksize=[3, 3], conv_strides=conv_strides, pool_ksize=pool_ksize, pool_strides=pool_strides)\n",
    "\n",
    "    f = flatten(conv3)\n",
    "\n",
    "    fc = fully_conn(f, 10)\n",
    "    fc = tf.nn.dropout(fc, keep_prob)\n",
    "\n",
    "    output_layer = output(fc, 10)\n",
    "    return output_layer\n",
    "\n",
    "\n",
    "\"\"\"\n",
    "DON'T MODIFY ANYTHING IN THIS CELL THAT IS BELOW THIS LINE\n",
    "\"\"\"\n",
    "\n",
    "##############################\n",
    "## Build the Neural Network ##\n",
    "##############################\n",
    "\n",
    "# Remove previous weights, bias, inputs, etc..\n",
    "tf.reset_default_graph()\n",
    "\n",
    "# Inputs\n",
    "x = neural_net_image_input((32, 32, 3))\n",
    "y = neural_net_label_input(10)\n",
    "keep_prob = neural_net_keep_prob_input()\n",
    "\n",
    "# Model\n",
    "logits = conv_net(x, keep_prob)\n",
    "\n",
    "# Name logits Tensor, so that is can be loaded from disk after training\n",
    "logits = tf.identity(logits, name='logits')\n",
    "\n",
    "# Loss and Optimizer\n",
    "cost = tf.reduce_mean(tf.nn.softmax_cross_entropy_with_logits(logits=logits, labels=y))\n",
    "optimizer = tf.train.AdamOptimizer().minimize(cost)\n",
    "\n",
    "# Accuracy\n",
    "correct_pred = tf.equal(tf.argmax(logits, 1), tf.argmax(y, 1))\n",
    "accuracy = tf.reduce_mean(tf.cast(correct_pred, tf.float32), name='accuracy')\n",
    "\n",
    "tests.test_conv_net(conv_net)"
   ]
  },
  {
   "cell_type": "markdown",
   "metadata": {
    "deletable": true,
    "editable": true
   },
   "source": [
    "## Train the Neural Network\n",
    "### Single Optimization\n",
    "Implement the function `train_neural_network` to do a single optimization.  The optimization should use `optimizer` to optimize in `session` with a `feed_dict` of the following:\n",
    "* `x` for image input\n",
    "* `y` for labels\n",
    "* `keep_prob` for keep probability for dropout\n",
    "\n",
    "This function will be called for each batch, so `tf.global_variables_initializer()` has already been called.\n",
    "\n",
    "Note: Nothing needs to be returned. This function is only optimizing the neural network."
   ]
  },
  {
   "cell_type": "code",
   "execution_count": 23,
   "metadata": {
    "collapsed": false,
    "deletable": true,
    "editable": true
   },
   "outputs": [
    {
     "name": "stdout",
     "output_type": "stream",
     "text": [
      "Tests Passed\n"
     ]
    }
   ],
   "source": [
    "def train_neural_network(session, optimizer, keep_probability, feature_batch, label_batch):\n",
    "    \"\"\"\n",
    "    Optimize the session on a batch of images and labels\n",
    "    : session: Current TensorFlow session\n",
    "    : optimizer: TensorFlow optimizer function\n",
    "    : keep_probability: keep probability\n",
    "    : feature_batch: Batch of Numpy image data\n",
    "    : label_batch: Batch of Numpy label data\n",
    "    \"\"\"\n",
    "    session.run(optimizer, feed_dict={x: feature_batch, y: label_batch, keep_prob: keep_probability})\n",
    "\n",
    "\n",
    "\"\"\"\n",
    "DON'T MODIFY ANYTHING IN THIS CELL THAT IS BELOW THIS LINE\n",
    "\"\"\"\n",
    "tests.test_train_nn(train_neural_network)"
   ]
  },
  {
   "cell_type": "markdown",
   "metadata": {
    "deletable": true,
    "editable": true
   },
   "source": [
    "### Show Stats\n",
    "Implement the function `print_stats` to print loss and validation accuracy.  Use the global variables `valid_features` and `valid_labels` to calculate validation accuracy.  Use a keep probability of `1.0` to calculate the loss and validation accuracy."
   ]
  },
  {
   "cell_type": "code",
   "execution_count": 24,
   "metadata": {
    "collapsed": false,
    "deletable": true,
    "editable": true
   },
   "outputs": [],
   "source": [
    "def print_stats(session, feature_batch, label_batch, cost, accuracy):\n",
    "    \"\"\"\n",
    "    Print information about loss and validation accuracy\n",
    "    : session: Current TensorFlow session\n",
    "    : feature_batch: Batch of Numpy image data\n",
    "    : label_batch: Batch of Numpy label data\n",
    "    : cost: TensorFlow cost function\n",
    "    : accuracy: TensorFlow accuracy function\n",
    "    \"\"\"\n",
    "    loss = session.run(cost, feed_dict={x: feature_batch, y: label_batch, keep_prob: 1.})\n",
    "    acc = session.run(accuracy, feed_dict={x: valid_features, y: valid_labels, keep_prob: 1.})\n",
    "    print('Loss: {} Validation Accuracy: {}'.format(loss, acc))"
   ]
  },
  {
   "cell_type": "markdown",
   "metadata": {
    "deletable": true,
    "editable": true
   },
   "source": [
    "### Hyperparameters\n",
    "Tune the following parameters:\n",
    "* Set `epochs` to the number of iterations until the network stops learning or start overfitting\n",
    "* Set `batch_size` to the highest number that your machine has memory for.  Most people set them to common sizes of memory:\n",
    " * 64\n",
    " * 128\n",
    " * 256\n",
    " * ...\n",
    "* Set `keep_probability` to the probability of keeping a node using dropout"
   ]
  },
  {
   "cell_type": "code",
   "execution_count": 27,
   "metadata": {
    "collapsed": true,
    "deletable": true,
    "editable": true
   },
   "outputs": [],
   "source": [
    "# TODO: Tune Parameters\n",
    "epochs = 40\n",
    "batch_size = 128\n",
    "keep_probability = 0.5"
   ]
  },
  {
   "cell_type": "markdown",
   "metadata": {
    "deletable": true,
    "editable": true
   },
   "source": [
    "### Train on a Single CIFAR-10 Batch\n",
    "Instead of training the neural network on all the CIFAR-10 batches of data, let's use a single batch. This should save time while you iterate on the model to get a better accuracy.  Once the final validation accuracy is 50% or greater, run the model on all the data in the next section."
   ]
  },
  {
   "cell_type": "code",
   "execution_count": 28,
   "metadata": {
    "collapsed": false,
    "deletable": true,
    "editable": true
   },
   "outputs": [
    {
     "name": "stdout",
     "output_type": "stream",
     "text": [
      "Checking the Training on a Single Batch...\n",
      "Epoch  1, CIFAR-10 Batch 1:  Loss: 2.2988548278808594 Validation Accuracy: 0.11320000141859055\n",
      "Epoch  2, CIFAR-10 Batch 1:  Loss: 2.2798240184783936 Validation Accuracy: 0.1111999973654747\n",
      "Epoch  3, CIFAR-10 Batch 1:  Loss: 2.225250244140625 Validation Accuracy: 0.17479999363422394\n",
      "Epoch  4, CIFAR-10 Batch 1:  Loss: 2.1251637935638428 Validation Accuracy: 0.23420000076293945\n",
      "Epoch  5, CIFAR-10 Batch 1:  Loss: 2.039602041244507 Validation Accuracy: 0.30000001192092896\n",
      "Epoch  6, CIFAR-10 Batch 1:  Loss: 2.06309175491333 Validation Accuracy: 0.33959999680519104\n",
      "Epoch  7, CIFAR-10 Batch 1:  Loss: 1.9847450256347656 Validation Accuracy: 0.36239999532699585\n",
      "Epoch  8, CIFAR-10 Batch 1:  Loss: 1.9712049961090088 Validation Accuracy: 0.36980000138282776\n",
      "Epoch  9, CIFAR-10 Batch 1:  Loss: 1.9254223108291626 Validation Accuracy: 0.3440000116825104\n",
      "Epoch 10, CIFAR-10 Batch 1:  Loss: 1.8764469623565674 Validation Accuracy: 0.3824000060558319\n",
      "Epoch 11, CIFAR-10 Batch 1:  Loss: 1.794590711593628 Validation Accuracy: 0.3718000054359436\n",
      "Epoch 12, CIFAR-10 Batch 1:  Loss: 1.7441425323486328 Validation Accuracy: 0.38960000872612\n",
      "Epoch 13, CIFAR-10 Batch 1:  Loss: 1.6897876262664795 Validation Accuracy: 0.38839998841285706\n",
      "Epoch 14, CIFAR-10 Batch 1:  Loss: 1.7564083337783813 Validation Accuracy: 0.38100001215934753\n",
      "Epoch 15, CIFAR-10 Batch 1:  Loss: 1.6169793605804443 Validation Accuracy: 0.3799999952316284\n",
      "Epoch 16, CIFAR-10 Batch 1:  Loss: 1.5847795009613037 Validation Accuracy: 0.41839998960494995\n",
      "Epoch 17, CIFAR-10 Batch 1:  Loss: 1.500260829925537 Validation Accuracy: 0.42340001463890076\n",
      "Epoch 18, CIFAR-10 Batch 1:  Loss: 1.5021476745605469 Validation Accuracy: 0.420199990272522\n",
      "Epoch 19, CIFAR-10 Batch 1:  Loss: 1.4800176620483398 Validation Accuracy: 0.4343999922275543\n",
      "Epoch 20, CIFAR-10 Batch 1:  Loss: 1.4319957494735718 Validation Accuracy: 0.4429999887943268\n",
      "Epoch 21, CIFAR-10 Batch 1:  Loss: 1.4422094821929932 Validation Accuracy: 0.43540000915527344\n",
      "Epoch 22, CIFAR-10 Batch 1:  Loss: 1.3664062023162842 Validation Accuracy: 0.44119998812675476\n",
      "Epoch 23, CIFAR-10 Batch 1:  Loss: 1.3669459819793701 Validation Accuracy: 0.45399999618530273\n",
      "Epoch 24, CIFAR-10 Batch 1:  Loss: 1.3799874782562256 Validation Accuracy: 0.45260000228881836\n",
      "Epoch 25, CIFAR-10 Batch 1:  Loss: 1.3694759607315063 Validation Accuracy: 0.444599986076355\n",
      "Epoch 26, CIFAR-10 Batch 1:  Loss: 1.3291308879852295 Validation Accuracy: 0.4618000090122223\n",
      "Epoch 27, CIFAR-10 Batch 1:  Loss: 1.357361078262329 Validation Accuracy: 0.4291999936103821\n",
      "Epoch 28, CIFAR-10 Batch 1:  Loss: 1.2756102085113525 Validation Accuracy: 0.45239999890327454\n",
      "Epoch 29, CIFAR-10 Batch 1:  Loss: 1.1969026327133179 Validation Accuracy: 0.4521999955177307\n",
      "Epoch 30, CIFAR-10 Batch 1:  Loss: 1.2257308959960938 Validation Accuracy: 0.45820000767707825\n",
      "Epoch 31, CIFAR-10 Batch 1:  Loss: 1.1677519083023071 Validation Accuracy: 0.4580000042915344\n",
      "Epoch 32, CIFAR-10 Batch 1:  Loss: 1.1527326107025146 Validation Accuracy: 0.47119998931884766\n",
      "Epoch 33, CIFAR-10 Batch 1:  Loss: 1.101552963256836 Validation Accuracy: 0.48019999265670776\n",
      "Epoch 34, CIFAR-10 Batch 1:  Loss: 1.0855735540390015 Validation Accuracy: 0.4758000075817108\n",
      "Epoch 35, CIFAR-10 Batch 1:  Loss: 1.0700173377990723 Validation Accuracy: 0.4650000035762787\n",
      "Epoch 36, CIFAR-10 Batch 1:  Loss: 1.0692590475082397 Validation Accuracy: 0.4742000102996826\n",
      "Epoch 37, CIFAR-10 Batch 1:  Loss: 1.0120395421981812 Validation Accuracy: 0.46639999747276306\n",
      "Epoch 38, CIFAR-10 Batch 1:  Loss: 1.017042875289917 Validation Accuracy: 0.4740000069141388\n",
      "Epoch 39, CIFAR-10 Batch 1:  Loss: 0.9802201986312866 Validation Accuracy: 0.4819999933242798\n",
      "Epoch 40, CIFAR-10 Batch 1:  Loss: 0.9770786166191101 Validation Accuracy: 0.47760000824928284\n"
     ]
    }
   ],
   "source": [
    "\"\"\"\n",
    "DON'T MODIFY ANYTHING IN THIS CELL\n",
    "\"\"\"\n",
    "print('Checking the Training on a Single Batch...')\n",
    "with tf.Session() as sess:\n",
    "    # Initializing the variables\n",
    "    sess.run(tf.global_variables_initializer())\n",
    "    \n",
    "    # Training cycle\n",
    "    for epoch in range(epochs):\n",
    "        batch_i = 1\n",
    "        for batch_features, batch_labels in helper.load_preprocess_training_batch(batch_i, batch_size):\n",
    "            train_neural_network(sess, optimizer, keep_probability, batch_features, batch_labels)\n",
    "        print('Epoch {:>2}, CIFAR-10 Batch {}:  '.format(epoch + 1, batch_i), end='')\n",
    "        print_stats(sess, batch_features, batch_labels, cost, accuracy)"
   ]
  },
  {
   "cell_type": "markdown",
   "metadata": {
    "deletable": true,
    "editable": true
   },
   "source": [
    "### Fully Train the Model\n",
    "Now that you got a good accuracy with a single CIFAR-10 batch, try it with all five batches."
   ]
  },
  {
   "cell_type": "code",
   "execution_count": 30,
   "metadata": {
    "collapsed": false,
    "deletable": true,
    "editable": true,
    "scrolled": true
   },
   "outputs": [
    {
     "name": "stdout",
     "output_type": "stream",
     "text": [
      "Training...\n",
      "Epoch  1, CIFAR-10 Batch 1:  Loss: 2.276395082473755 Validation Accuracy: 0.16300000250339508\n",
      "Epoch  1, CIFAR-10 Batch 2:  Loss: 2.148928165435791 Validation Accuracy: 0.18719999492168427\n",
      "Epoch  1, CIFAR-10 Batch 3:  Loss: 1.9408382177352905 Validation Accuracy: 0.2078000009059906\n",
      "Epoch  1, CIFAR-10 Batch 4:  Loss: 1.900902509689331 Validation Accuracy: 0.30160000920295715\n",
      "Epoch  1, CIFAR-10 Batch 5:  Loss: 1.8621189594268799 Validation Accuracy: 0.32919999957084656\n",
      "Epoch  2, CIFAR-10 Batch 1:  Loss: 2.0085105895996094 Validation Accuracy: 0.33559998869895935\n",
      "Epoch  2, CIFAR-10 Batch 2:  Loss: 1.8355705738067627 Validation Accuracy: 0.34540000557899475\n",
      "Epoch  2, CIFAR-10 Batch 3:  Loss: 1.6303571462631226 Validation Accuracy: 0.3718000054359436\n",
      "Epoch  2, CIFAR-10 Batch 4:  Loss: 1.700003981590271 Validation Accuracy: 0.3693999946117401\n",
      "Epoch  2, CIFAR-10 Batch 5:  Loss: 1.6990547180175781 Validation Accuracy: 0.3882000148296356\n",
      "Epoch  3, CIFAR-10 Batch 1:  Loss: 1.8143784999847412 Validation Accuracy: 0.41339999437332153\n",
      "Epoch  3, CIFAR-10 Batch 2:  Loss: 1.6978267431259155 Validation Accuracy: 0.4203999936580658\n",
      "Epoch  3, CIFAR-10 Batch 3:  Loss: 1.4586966037750244 Validation Accuracy: 0.41659998893737793\n",
      "Epoch  3, CIFAR-10 Batch 4:  Loss: 1.6474521160125732 Validation Accuracy: 0.4246000051498413\n",
      "Epoch  3, CIFAR-10 Batch 5:  Loss: 1.5427324771881104 Validation Accuracy: 0.43700000643730164\n",
      "Epoch  4, CIFAR-10 Batch 1:  Loss: 1.6507236957550049 Validation Accuracy: 0.44679999351501465\n",
      "Epoch  4, CIFAR-10 Batch 2:  Loss: 1.6334987878799438 Validation Accuracy: 0.45260000228881836\n",
      "Epoch  4, CIFAR-10 Batch 3:  Loss: 1.3339483737945557 Validation Accuracy: 0.4636000096797943\n",
      "Epoch  4, CIFAR-10 Batch 4:  Loss: 1.576027512550354 Validation Accuracy: 0.4650000035762787\n",
      "Epoch  4, CIFAR-10 Batch 5:  Loss: 1.4990943670272827 Validation Accuracy: 0.46959999203681946\n",
      "Epoch  5, CIFAR-10 Batch 1:  Loss: 1.5872046947479248 Validation Accuracy: 0.47360000014305115\n",
      "Epoch  5, CIFAR-10 Batch 2:  Loss: 1.4576480388641357 Validation Accuracy: 0.4733999967575073\n",
      "Epoch  5, CIFAR-10 Batch 3:  Loss: 1.2229658365249634 Validation Accuracy: 0.4722000062465668\n",
      "Epoch  5, CIFAR-10 Batch 4:  Loss: 1.4768249988555908 Validation Accuracy: 0.5001999735832214\n",
      "Epoch  5, CIFAR-10 Batch 5:  Loss: 1.4349716901779175 Validation Accuracy: 0.487199991941452\n",
      "Epoch  6, CIFAR-10 Batch 1:  Loss: 1.4671878814697266 Validation Accuracy: 0.47859999537467957\n",
      "Epoch  6, CIFAR-10 Batch 2:  Loss: 1.3642709255218506 Validation Accuracy: 0.5105999708175659\n",
      "Epoch  6, CIFAR-10 Batch 3:  Loss: 1.2363901138305664 Validation Accuracy: 0.4991999864578247\n",
      "Epoch  6, CIFAR-10 Batch 4:  Loss: 1.4203071594238281 Validation Accuracy: 0.5166000127792358\n",
      "Epoch  6, CIFAR-10 Batch 5:  Loss: 1.420299768447876 Validation Accuracy: 0.5144000053405762\n",
      "Epoch  7, CIFAR-10 Batch 1:  Loss: 1.375847578048706 Validation Accuracy: 0.5063999891281128\n",
      "Epoch  7, CIFAR-10 Batch 2:  Loss: 1.3264968395233154 Validation Accuracy: 0.5299999713897705\n",
      "Epoch  7, CIFAR-10 Batch 3:  Loss: 1.1164658069610596 Validation Accuracy: 0.5212000012397766\n",
      "Epoch  7, CIFAR-10 Batch 4:  Loss: 1.3217344284057617 Validation Accuracy: 0.5246000289916992\n",
      "Epoch  7, CIFAR-10 Batch 5:  Loss: 1.3485963344573975 Validation Accuracy: 0.5152000188827515\n",
      "Epoch  8, CIFAR-10 Batch 1:  Loss: 1.3302851915359497 Validation Accuracy: 0.5338000059127808\n",
      "Epoch  8, CIFAR-10 Batch 2:  Loss: 1.241898775100708 Validation Accuracy: 0.522599995136261\n",
      "Epoch  8, CIFAR-10 Batch 3:  Loss: 1.1319334506988525 Validation Accuracy: 0.5370000004768372\n",
      "Epoch  8, CIFAR-10 Batch 4:  Loss: 1.2671217918395996 Validation Accuracy: 0.5468000173568726\n",
      "Epoch  8, CIFAR-10 Batch 5:  Loss: 1.2465837001800537 Validation Accuracy: 0.5379999876022339\n",
      "Epoch  9, CIFAR-10 Batch 1:  Loss: 1.3041185140609741 Validation Accuracy: 0.5239999890327454\n",
      "Epoch  9, CIFAR-10 Batch 2:  Loss: 1.1721422672271729 Validation Accuracy: 0.5422000288963318\n",
      "Epoch  9, CIFAR-10 Batch 3:  Loss: 1.018237829208374 Validation Accuracy: 0.5514000058174133\n",
      "Epoch  9, CIFAR-10 Batch 4:  Loss: 1.2177690267562866 Validation Accuracy: 0.5508000254631042\n",
      "Epoch  9, CIFAR-10 Batch 5:  Loss: 1.271059513092041 Validation Accuracy: 0.5555999875068665\n",
      "Epoch 10, CIFAR-10 Batch 1:  Loss: 1.248361349105835 Validation Accuracy: 0.5425999760627747\n",
      "Epoch 10, CIFAR-10 Batch 2:  Loss: 1.1890065670013428 Validation Accuracy: 0.550599992275238\n",
      "Epoch 10, CIFAR-10 Batch 3:  Loss: 1.005642294883728 Validation Accuracy: 0.5601999759674072\n",
      "Epoch 10, CIFAR-10 Batch 4:  Loss: 1.1956655979156494 Validation Accuracy: 0.5644000172615051\n",
      "Epoch 10, CIFAR-10 Batch 5:  Loss: 1.2022948265075684 Validation Accuracy: 0.5540000200271606\n",
      "Epoch 11, CIFAR-10 Batch 1:  Loss: 1.1521806716918945 Validation Accuracy: 0.555400013923645\n",
      "Epoch 11, CIFAR-10 Batch 2:  Loss: 1.1806325912475586 Validation Accuracy: 0.5428000092506409\n",
      "Epoch 11, CIFAR-10 Batch 3:  Loss: 0.9274552464485168 Validation Accuracy: 0.557200014591217\n",
      "Epoch 11, CIFAR-10 Batch 4:  Loss: 1.1395496129989624 Validation Accuracy: 0.550000011920929\n",
      "Epoch 11, CIFAR-10 Batch 5:  Loss: 1.159729242324829 Validation Accuracy: 0.5590000152587891\n",
      "Epoch 12, CIFAR-10 Batch 1:  Loss: 1.1524999141693115 Validation Accuracy: 0.5608000159263611\n",
      "Epoch 12, CIFAR-10 Batch 2:  Loss: 1.1135739088058472 Validation Accuracy: 0.5619999766349792\n",
      "Epoch 12, CIFAR-10 Batch 3:  Loss: 0.9115133285522461 Validation Accuracy: 0.5740000009536743\n",
      "Epoch 12, CIFAR-10 Batch 4:  Loss: 1.07071852684021 Validation Accuracy: 0.5663999915122986\n",
      "Epoch 12, CIFAR-10 Batch 5:  Loss: 1.1339085102081299 Validation Accuracy: 0.5702000260353088\n",
      "Epoch 13, CIFAR-10 Batch 1:  Loss: 1.0227559804916382 Validation Accuracy: 0.5802000164985657\n",
      "Epoch 13, CIFAR-10 Batch 2:  Loss: 1.132118582725525 Validation Accuracy: 0.5609999895095825\n",
      "Epoch 13, CIFAR-10 Batch 3:  Loss: 0.9332296252250671 Validation Accuracy: 0.5730000138282776\n",
      "Epoch 13, CIFAR-10 Batch 4:  Loss: 1.0714061260223389 Validation Accuracy: 0.5776000022888184\n",
      "Epoch 13, CIFAR-10 Batch 5:  Loss: 1.0561316013336182 Validation Accuracy: 0.5860000252723694\n",
      "Epoch 14, CIFAR-10 Batch 1:  Loss: 1.044460654258728 Validation Accuracy: 0.5694000124931335\n",
      "Epoch 14, CIFAR-10 Batch 2:  Loss: 1.072373628616333 Validation Accuracy: 0.5645999908447266\n",
      "Epoch 14, CIFAR-10 Batch 3:  Loss: 0.8997869491577148 Validation Accuracy: 0.5831999778747559\n",
      "Epoch 14, CIFAR-10 Batch 4:  Loss: 1.0811355113983154 Validation Accuracy: 0.5888000130653381\n",
      "Epoch 14, CIFAR-10 Batch 5:  Loss: 1.0328079462051392 Validation Accuracy: 0.5784000158309937\n",
      "Epoch 15, CIFAR-10 Batch 1:  Loss: 0.9803520441055298 Validation Accuracy: 0.5738000273704529\n",
      "Epoch 15, CIFAR-10 Batch 2:  Loss: 1.0011417865753174 Validation Accuracy: 0.5902000069618225\n",
      "Epoch 15, CIFAR-10 Batch 3:  Loss: 0.8763817548751831 Validation Accuracy: 0.590399980545044\n",
      "Epoch 15, CIFAR-10 Batch 4:  Loss: 1.0402636528015137 Validation Accuracy: 0.5871999859809875\n",
      "Epoch 15, CIFAR-10 Batch 5:  Loss: 1.011626958847046 Validation Accuracy: 0.5852000117301941\n",
      "Epoch 16, CIFAR-10 Batch 1:  Loss: 0.9331015348434448 Validation Accuracy: 0.5835999846458435\n",
      "Epoch 16, CIFAR-10 Batch 2:  Loss: 1.0102403163909912 Validation Accuracy: 0.5781999826431274\n",
      "Epoch 16, CIFAR-10 Batch 3:  Loss: 0.8651849627494812 Validation Accuracy: 0.5884000062942505\n",
      "Epoch 16, CIFAR-10 Batch 4:  Loss: 1.0130794048309326 Validation Accuracy: 0.5842000246047974\n",
      "Epoch 16, CIFAR-10 Batch 5:  Loss: 1.010386347770691 Validation Accuracy: 0.5720000267028809\n",
      "Epoch 17, CIFAR-10 Batch 1:  Loss: 0.9230586886405945 Validation Accuracy: 0.5843999981880188\n",
      "Epoch 17, CIFAR-10 Batch 2:  Loss: 1.0009630918502808 Validation Accuracy: 0.5835999846458435\n",
      "Epoch 17, CIFAR-10 Batch 3:  Loss: 0.9077083468437195 Validation Accuracy: 0.5925999879837036\n",
      "Epoch 17, CIFAR-10 Batch 4:  Loss: 0.9370959997177124 Validation Accuracy: 0.5952000021934509\n",
      "Epoch 17, CIFAR-10 Batch 5:  Loss: 0.9164520502090454 Validation Accuracy: 0.58160001039505\n",
      "Epoch 18, CIFAR-10 Batch 1:  Loss: 0.947780966758728 Validation Accuracy: 0.5910000205039978\n",
      "Epoch 18, CIFAR-10 Batch 2:  Loss: 1.0163547992706299 Validation Accuracy: 0.5771999955177307\n",
      "Epoch 18, CIFAR-10 Batch 3:  Loss: 0.793664276599884 Validation Accuracy: 0.5968000292778015\n",
      "Epoch 18, CIFAR-10 Batch 4:  Loss: 0.9802787899971008 Validation Accuracy: 0.5925999879837036\n",
      "Epoch 18, CIFAR-10 Batch 5:  Loss: 0.877524733543396 Validation Accuracy: 0.5920000076293945\n",
      "Epoch 19, CIFAR-10 Batch 1:  Loss: 0.9070684313774109 Validation Accuracy: 0.5867999792098999\n",
      "Epoch 19, CIFAR-10 Batch 2:  Loss: 0.9510648846626282 Validation Accuracy: 0.5950000286102295\n",
      "Epoch 19, CIFAR-10 Batch 3:  Loss: 0.7938841581344604 Validation Accuracy: 0.5892000198364258\n",
      "Epoch 19, CIFAR-10 Batch 4:  Loss: 1.023700475692749 Validation Accuracy: 0.5594000220298767\n",
      "Epoch 19, CIFAR-10 Batch 5:  Loss: 0.8710115551948547 Validation Accuracy: 0.5989999771118164\n",
      "Epoch 20, CIFAR-10 Batch 1:  Loss: 0.900421142578125 Validation Accuracy: 0.592199981212616\n",
      "Epoch 20, CIFAR-10 Batch 2:  Loss: 0.9347112774848938 Validation Accuracy: 0.5974000096321106\n",
      "Epoch 20, CIFAR-10 Batch 3:  Loss: 0.8355024456977844 Validation Accuracy: 0.5928000211715698\n",
      "Epoch 20, CIFAR-10 Batch 4:  Loss: 0.9213421940803528 Validation Accuracy: 0.5860000252723694\n",
      "Epoch 20, CIFAR-10 Batch 5:  Loss: 0.9196245074272156 Validation Accuracy: 0.5687999725341797\n",
      "Epoch 21, CIFAR-10 Batch 1:  Loss: 0.8907114267349243 Validation Accuracy: 0.5831999778747559\n",
      "Epoch 21, CIFAR-10 Batch 2:  Loss: 0.9141882061958313 Validation Accuracy: 0.5997999906539917\n",
      "Epoch 21, CIFAR-10 Batch 3:  Loss: 0.8266873359680176 Validation Accuracy: 0.5888000130653381\n",
      "Epoch 21, CIFAR-10 Batch 4:  Loss: 0.8633429408073425 Validation Accuracy: 0.597599983215332\n",
      "Epoch 21, CIFAR-10 Batch 5:  Loss: 0.7734234929084778 Validation Accuracy: 0.6011999845504761\n",
      "Epoch 22, CIFAR-10 Batch 1:  Loss: 0.8361404538154602 Validation Accuracy: 0.5888000130653381\n",
      "Epoch 22, CIFAR-10 Batch 2:  Loss: 0.8654910922050476 Validation Accuracy: 0.603600025177002\n",
      "Epoch 22, CIFAR-10 Batch 3:  Loss: 0.8237491846084595 Validation Accuracy: 0.5974000096321106\n",
      "Epoch 22, CIFAR-10 Batch 4:  Loss: 0.9076612591743469 Validation Accuracy: 0.5875999927520752\n",
      "Epoch 22, CIFAR-10 Batch 5:  Loss: 0.8088951110839844 Validation Accuracy: 0.6083999872207642\n",
      "Epoch 23, CIFAR-10 Batch 1:  Loss: 0.8701835870742798 Validation Accuracy: 0.5830000042915344\n",
      "Epoch 23, CIFAR-10 Batch 2:  Loss: 0.8630312085151672 Validation Accuracy: 0.6137999892234802\n",
      "Epoch 23, CIFAR-10 Batch 3:  Loss: 0.7790192365646362 Validation Accuracy: 0.5924000144004822\n",
      "Epoch 23, CIFAR-10 Batch 4:  Loss: 0.8517946004867554 Validation Accuracy: 0.5989999771118164\n",
      "Epoch 23, CIFAR-10 Batch 5:  Loss: 0.7792197465896606 Validation Accuracy: 0.6119999885559082\n",
      "Epoch 24, CIFAR-10 Batch 1:  Loss: 0.8303450345993042 Validation Accuracy: 0.5911999940872192\n",
      "Epoch 24, CIFAR-10 Batch 2:  Loss: 0.8552490472793579 Validation Accuracy: 0.6051999926567078\n",
      "Epoch 24, CIFAR-10 Batch 3:  Loss: 0.673937201499939 Validation Accuracy: 0.6128000020980835\n",
      "Epoch 24, CIFAR-10 Batch 4:  Loss: 0.8958980441093445 Validation Accuracy: 0.6001999974250793\n",
      "Epoch 24, CIFAR-10 Batch 5:  Loss: 0.7608088254928589 Validation Accuracy: 0.5968000292778015\n",
      "Epoch 25, CIFAR-10 Batch 1:  Loss: 0.8169488906860352 Validation Accuracy: 0.592199981212616\n",
      "Epoch 25, CIFAR-10 Batch 2:  Loss: 0.8080422282218933 Validation Accuracy: 0.6092000007629395\n",
      "Epoch 25, CIFAR-10 Batch 3:  Loss: 0.719796359539032 Validation Accuracy: 0.604200005531311\n",
      "Epoch 25, CIFAR-10 Batch 4:  Loss: 0.8917171359062195 Validation Accuracy: 0.6021999716758728\n",
      "Epoch 25, CIFAR-10 Batch 5:  Loss: 0.7325623631477356 Validation Accuracy: 0.614799976348877\n",
      "Epoch 26, CIFAR-10 Batch 1:  Loss: 0.7739480137825012 Validation Accuracy: 0.5856000185012817\n",
      "Epoch 26, CIFAR-10 Batch 2:  Loss: 0.8118524551391602 Validation Accuracy: 0.6021999716758728\n",
      "Epoch 26, CIFAR-10 Batch 3:  Loss: 0.6480253338813782 Validation Accuracy: 0.6110000014305115\n",
      "Epoch 26, CIFAR-10 Batch 4:  Loss: 0.811693549156189 Validation Accuracy: 0.6015999913215637\n",
      "Epoch 26, CIFAR-10 Batch 5:  Loss: 0.7341270446777344 Validation Accuracy: 0.5953999757766724\n",
      "Epoch 27, CIFAR-10 Batch 1:  Loss: 0.7565895915031433 Validation Accuracy: 0.6028000116348267\n",
      "Epoch 27, CIFAR-10 Batch 2:  Loss: 0.8299349546432495 Validation Accuracy: 0.6140000224113464\n",
      "Epoch 27, CIFAR-10 Batch 3:  Loss: 0.6414307951927185 Validation Accuracy: 0.5968000292778015\n",
      "Epoch 27, CIFAR-10 Batch 4:  Loss: 0.8022266626358032 Validation Accuracy: 0.6078000068664551\n",
      "Epoch 27, CIFAR-10 Batch 5:  Loss: 0.6916167140007019 Validation Accuracy: 0.6092000007629395\n",
      "Epoch 28, CIFAR-10 Batch 1:  Loss: 0.7885864973068237 Validation Accuracy: 0.5843999981880188\n",
      "Epoch 28, CIFAR-10 Batch 2:  Loss: 0.7992308139801025 Validation Accuracy: 0.6047999858856201\n",
      "Epoch 28, CIFAR-10 Batch 3:  Loss: 0.7051541209220886 Validation Accuracy: 0.600600004196167\n",
      "Epoch 28, CIFAR-10 Batch 4:  Loss: 0.804722785949707 Validation Accuracy: 0.6100000143051147\n",
      "Epoch 28, CIFAR-10 Batch 5:  Loss: 0.6830235719680786 Validation Accuracy: 0.6137999892234802\n",
      "Epoch 29, CIFAR-10 Batch 1:  Loss: 0.7818931341171265 Validation Accuracy: 0.5968000292778015\n",
      "Epoch 29, CIFAR-10 Batch 2:  Loss: 0.8219019174575806 Validation Accuracy: 0.6069999933242798\n",
      "Epoch 29, CIFAR-10 Batch 3:  Loss: 0.6623042225837708 Validation Accuracy: 0.609000027179718\n",
      "Epoch 29, CIFAR-10 Batch 4:  Loss: 0.8278781771659851 Validation Accuracy: 0.6158000230789185\n",
      "Epoch 29, CIFAR-10 Batch 5:  Loss: 0.6710249781608582 Validation Accuracy: 0.6133999824523926\n",
      "Epoch 30, CIFAR-10 Batch 1:  Loss: 0.7694820165634155 Validation Accuracy: 0.5928000211715698\n",
      "Epoch 30, CIFAR-10 Batch 2:  Loss: 0.8071053624153137 Validation Accuracy: 0.6064000129699707\n",
      "Epoch 30, CIFAR-10 Batch 3:  Loss: 0.7027415037155151 Validation Accuracy: 0.6060000061988831\n",
      "Epoch 30, CIFAR-10 Batch 4:  Loss: 0.7978630065917969 Validation Accuracy: 0.6101999878883362\n",
      "Epoch 30, CIFAR-10 Batch 5:  Loss: 0.7031854391098022 Validation Accuracy: 0.6154000163078308\n",
      "Epoch 31, CIFAR-10 Batch 1:  Loss: 0.9012937545776367 Validation Accuracy: 0.5662000179290771\n",
      "Epoch 31, CIFAR-10 Batch 2:  Loss: 0.8378629684448242 Validation Accuracy: 0.6078000068664551\n",
      "Epoch 31, CIFAR-10 Batch 3:  Loss: 0.6098637580871582 Validation Accuracy: 0.6061999797821045\n",
      "Epoch 31, CIFAR-10 Batch 4:  Loss: 0.8387109041213989 Validation Accuracy: 0.6055999994277954\n",
      "Epoch 31, CIFAR-10 Batch 5:  Loss: 0.699174702167511 Validation Accuracy: 0.6164000034332275\n",
      "Epoch 32, CIFAR-10 Batch 1:  Loss: 0.7547928094863892 Validation Accuracy: 0.609000027179718\n",
      "Epoch 32, CIFAR-10 Batch 2:  Loss: 0.7516196370124817 Validation Accuracy: 0.6129999756813049\n",
      "Epoch 32, CIFAR-10 Batch 3:  Loss: 0.6022517085075378 Validation Accuracy: 0.6123999953269958\n",
      "Epoch 32, CIFAR-10 Batch 4:  Loss: 0.817550539970398 Validation Accuracy: 0.6015999913215637\n",
      "Epoch 32, CIFAR-10 Batch 5:  Loss: 0.7069187164306641 Validation Accuracy: 0.6215999722480774\n",
      "Epoch 33, CIFAR-10 Batch 1:  Loss: 0.7469650506973267 Validation Accuracy: 0.5935999751091003\n",
      "Epoch 33, CIFAR-10 Batch 2:  Loss: 0.7634655237197876 Validation Accuracy: 0.6118000149726868\n",
      "Epoch 33, CIFAR-10 Batch 3:  Loss: 0.5811362862586975 Validation Accuracy: 0.6226000189781189\n",
      "Epoch 33, CIFAR-10 Batch 4:  Loss: 0.7584859132766724 Validation Accuracy: 0.6169999837875366\n",
      "Epoch 33, CIFAR-10 Batch 5:  Loss: 0.6656502485275269 Validation Accuracy: 0.6159999966621399\n",
      "Epoch 34, CIFAR-10 Batch 1:  Loss: 0.7216657400131226 Validation Accuracy: 0.6119999885559082\n",
      "Epoch 34, CIFAR-10 Batch 2:  Loss: 0.7185795903205872 Validation Accuracy: 0.6087999939918518\n",
      "Epoch 34, CIFAR-10 Batch 3:  Loss: 0.609180748462677 Validation Accuracy: 0.6032000184059143\n",
      "Epoch 34, CIFAR-10 Batch 4:  Loss: 0.7819070816040039 Validation Accuracy: 0.6205999851226807\n",
      "Epoch 34, CIFAR-10 Batch 5:  Loss: 0.7084856629371643 Validation Accuracy: 0.5961999893188477\n",
      "Epoch 35, CIFAR-10 Batch 1:  Loss: 0.746897280216217 Validation Accuracy: 0.6021999716758728\n",
      "Epoch 35, CIFAR-10 Batch 2:  Loss: 0.769135594367981 Validation Accuracy: 0.6069999933242798\n",
      "Epoch 35, CIFAR-10 Batch 3:  Loss: 0.6331551671028137 Validation Accuracy: 0.6177999973297119\n",
      "Epoch 35, CIFAR-10 Batch 4:  Loss: 0.706653892993927 Validation Accuracy: 0.6177999973297119\n",
      "Epoch 35, CIFAR-10 Batch 5:  Loss: 0.6927040815353394 Validation Accuracy: 0.6075999736785889\n",
      "Epoch 36, CIFAR-10 Batch 1:  Loss: 0.6737385988235474 Validation Accuracy: 0.5997999906539917\n",
      "Epoch 36, CIFAR-10 Batch 2:  Loss: 0.7386943101882935 Validation Accuracy: 0.621999979019165\n",
      "Epoch 36, CIFAR-10 Batch 3:  Loss: 0.5692931413650513 Validation Accuracy: 0.6093999743461609\n",
      "Epoch 36, CIFAR-10 Batch 4:  Loss: 0.6793757677078247 Validation Accuracy: 0.6248000264167786\n",
      "Epoch 36, CIFAR-10 Batch 5:  Loss: 0.6532429456710815 Validation Accuracy: 0.6115999817848206\n",
      "Epoch 37, CIFAR-10 Batch 1:  Loss: 0.7223880290985107 Validation Accuracy: 0.6025999784469604\n",
      "Epoch 37, CIFAR-10 Batch 2:  Loss: 0.6919680833816528 Validation Accuracy: 0.6155999898910522\n",
      "Epoch 37, CIFAR-10 Batch 3:  Loss: 0.5421622395515442 Validation Accuracy: 0.6227999925613403\n",
      "Epoch 37, CIFAR-10 Batch 4:  Loss: 0.705804169178009 Validation Accuracy: 0.6248000264167786\n",
      "Epoch 37, CIFAR-10 Batch 5:  Loss: 0.6304921507835388 Validation Accuracy: 0.6151999831199646\n",
      "Epoch 38, CIFAR-10 Batch 1:  Loss: 0.7043790221214294 Validation Accuracy: 0.6003999710083008\n",
      "Epoch 38, CIFAR-10 Batch 2:  Loss: 0.6641708612442017 Validation Accuracy: 0.6197999715805054\n",
      "Epoch 38, CIFAR-10 Batch 3:  Loss: 0.5987950563430786 Validation Accuracy: 0.6132000088691711\n",
      "Epoch 38, CIFAR-10 Batch 4:  Loss: 0.7125407457351685 Validation Accuracy: 0.6186000108718872\n",
      "Epoch 38, CIFAR-10 Batch 5:  Loss: 0.6257520318031311 Validation Accuracy: 0.6187999844551086\n",
      "Epoch 39, CIFAR-10 Batch 1:  Loss: 0.687248706817627 Validation Accuracy: 0.6195999979972839\n",
      "Epoch 39, CIFAR-10 Batch 2:  Loss: 0.6987391114234924 Validation Accuracy: 0.6126000285148621\n",
      "Epoch 39, CIFAR-10 Batch 3:  Loss: 0.5719126462936401 Validation Accuracy: 0.6140000224113464\n",
      "Epoch 39, CIFAR-10 Batch 4:  Loss: 0.6740752458572388 Validation Accuracy: 0.6173999905586243\n",
      "Epoch 39, CIFAR-10 Batch 5:  Loss: 0.6501429080963135 Validation Accuracy: 0.6140000224113464\n",
      "Epoch 40, CIFAR-10 Batch 1:  Loss: 0.6938295960426331 Validation Accuracy: 0.6082000136375427\n",
      "Epoch 40, CIFAR-10 Batch 2:  Loss: 0.7141897082328796 Validation Accuracy: 0.6195999979972839\n",
      "Epoch 40, CIFAR-10 Batch 3:  Loss: 0.5213845372200012 Validation Accuracy: 0.6144000291824341\n",
      "Epoch 40, CIFAR-10 Batch 4:  Loss: 0.6557853817939758 Validation Accuracy: 0.6226000189781189\n",
      "Epoch 40, CIFAR-10 Batch 5:  Loss: 0.6298189163208008 Validation Accuracy: 0.6209999918937683\n"
     ]
    }
   ],
   "source": [
    "\"\"\"\n",
    "DON'T MODIFY ANYTHING IN THIS CELL\n",
    "\"\"\"\n",
    "save_model_path = './image_classification'\n",
    "\n",
    "print('Training...')\n",
    "with tf.Session() as sess:\n",
    "    # Initializing the variables\n",
    "    sess.run(tf.global_variables_initializer())\n",
    "    \n",
    "    # Training cycle\n",
    "    for epoch in range(epochs):\n",
    "        # Loop over all batches\n",
    "        n_batches = 5\n",
    "        for batch_i in range(1, n_batches + 1):\n",
    "            for batch_features, batch_labels in helper.load_preprocess_training_batch(batch_i, batch_size):\n",
    "                train_neural_network(sess, optimizer, keep_probability, batch_features, batch_labels)\n",
    "            print('Epoch {:>2}, CIFAR-10 Batch {}:  '.format(epoch + 1, batch_i), end='')\n",
    "            print_stats(sess, batch_features, batch_labels, cost, accuracy)\n",
    "            \n",
    "    # Save Model\n",
    "    saver = tf.train.Saver()\n",
    "    save_path = saver.save(sess, save_model_path)"
   ]
  },
  {
   "cell_type": "markdown",
   "metadata": {
    "deletable": true,
    "editable": true
   },
   "source": [
    "# Checkpoint\n",
    "The model has been saved to disk.\n",
    "## Test Model\n",
    "Test your model against the test dataset.  This will be your final accuracy. You should have an accuracy greater than 50%. If you don't, keep tweaking the model architecture and parameters."
   ]
  },
  {
   "cell_type": "code",
   "execution_count": 31,
   "metadata": {
    "collapsed": false,
    "deletable": true,
    "editable": true
   },
   "outputs": [
    {
     "name": "stdout",
     "output_type": "stream",
     "text": [
      "Testing Accuracy: 0.6125395569620253\n",
      "\n"
     ]
    },
    {
     "data": {
      "image/png": "[encoded data removed]",
      "text/plain": [
       "<matplotlib.figure.Figure at 0x11a8170f0>"
      ]
     },
     "metadata": {
      "image/png": {
       "height": 319,
       "width": 355
      }
     },
     "output_type": "display_data"
    }
   ],
   "source": [
    "\"\"\"\n",
    "DON'T MODIFY ANYTHING IN THIS CELL\n",
    "\"\"\"\n",
    "%matplotlib inline\n",
    "%config InlineBackend.figure_format = 'retina'\n",
    "\n",
    "import tensorflow as tf\n",
    "import pickle\n",
    "import helper\n",
    "import random\n",
    "\n",
    "# Set batch size if not already set\n",
    "try:\n",
    "    if batch_size:\n",
    "        pass\n",
    "except NameError:\n",
    "    batch_size = 64\n",
    "\n",
    "save_model_path = './image_classification'\n",
    "n_samples = 4\n",
    "top_n_predictions = 3\n",
    "\n",
    "def test_model():\n",
    "    \"\"\"\n",
    "    Test the saved model against the test dataset\n",
    "    \"\"\"\n",
    "\n",
    "    test_features, test_labels = pickle.load(open('preprocess_test.p', mode='rb'))\n",
    "    loaded_graph = tf.Graph()\n",
    "\n",
    "    with tf.Session(graph=loaded_graph) as sess:\n",
    "        # Load model\n",
    "        loader = tf.train.import_meta_graph(save_model_path + '.meta')\n",
    "        loader.restore(sess, save_model_path)\n",
    "\n",
    "        # Get Tensors from loaded model\n",
    "        loaded_x = loaded_graph.get_tensor_by_name('x:0')\n",
    "        loaded_y = loaded_graph.get_tensor_by_name('y:0')\n",
    "        loaded_keep_prob = loaded_graph.get_tensor_by_name('keep_prob:0')\n",
    "        loaded_logits = loaded_graph.get_tensor_by_name('logits:0')\n",
    "        loaded_acc = loaded_graph.get_tensor_by_name('accuracy:0')\n",
    "        \n",
    "        # Get accuracy in batches for memory limitations\n",
    "        test_batch_acc_total = 0\n",
    "        test_batch_count = 0\n",
    "        \n",
    "        for test_feature_batch, test_label_batch in helper.batch_features_labels(test_features, test_labels, batch_size):\n",
    "            test_batch_acc_total += sess.run(\n",
    "                loaded_acc,\n",
    "                feed_dict={loaded_x: test_feature_batch, loaded_y: test_label_batch, loaded_keep_prob: 1.0})\n",
    "            test_batch_count += 1\n",
    "\n",
    "        print('Testing Accuracy: {}\\n'.format(test_batch_acc_total/test_batch_count))\n",
    "\n",
    "        # Print Random Samples\n",
    "        random_test_features, random_test_labels = tuple(zip(*random.sample(list(zip(test_features, test_labels)), n_samples)))\n",
    "        random_test_predictions = sess.run(\n",
    "            tf.nn.top_k(tf.nn.softmax(loaded_logits), top_n_predictions),\n",
    "            feed_dict={loaded_x: random_test_features, loaded_y: random_test_labels, loaded_keep_prob: 1.0})\n",
    "        helper.display_image_predictions(random_test_features, random_test_labels, random_test_predictions)\n",
    "\n",
    "\n",
    "test_model()"
   ]
  },
  {
   "cell_type": "markdown",
   "metadata": {
    "deletable": true,
    "editable": true
   },
   "source": [
    "## Why 50-80% Accuracy?\n",
    "You might be wondering why you can't get an accuracy any higher. First things first, 50% isn't bad for a simple CNN.  Pure guessing would get you 10% accuracy. However, you might notice people are getting scores [well above 80%](http://rodrigob.github.io/are_we_there_yet/build/classification_datasets_results.html#43494641522d3130).  That's because we haven't taught you all there is to know about neural networks. We still need to cover a few more techniques.\n",
    "## Submitting This Project\n",
    "When submitting this project, make sure to run all the cells before saving the notebook.  Save the notebook file as \"dlnd_image_classification.ipynb\" and save it as a HTML file under \"File\" -> \"Download as\".  Include the \"helper.py\" and \"problem_unittests.py\" files in your submission."
   ]
  }
 ],
 "metadata": {
  "kernelspec": {
   "display_name": "Python [dl-mini]",
   "language": "python",
   "name": "Python [dl-mini]"
  },
  "language_info": {
   "codemirror_mode": {
    "name": "ipython",
    "version": 3
   },
   "file_extension": ".py",
   "mimetype": "text/x-python",
   "name": "python",
   "nbconvert_exporter": "python",
   "pygments_lexer": "ipython3",
   "version": "3.5.3"
  }
 },
 "nbformat": 4,
 "nbformat_minor": 0
}
